{
 "cells": [
  {
   "cell_type": "code",
   "execution_count": 1,
   "id": "c725c2ad-1873-4be4-b17c-095af4696a50",
   "metadata": {
    "tags": []
   },
   "outputs": [
    {
     "name": "stdout",
     "output_type": "stream",
     "text": [
      "a = 2\n",
      "hoi quantum!\n"
     ]
    }
   ],
   "source": [
    "main ( int{} a = (:2, :print(\"a =\")) print(\"hoi quantum!\") )"
   ]
  },
  {
   "cell_type": "code",
   "execution_count": null,
   "id": "be8d739f-f5e8-49c6-ae02-4aaf0c26470c",
   "metadata": {},
   "outputs": [],
   "source": []
  }
 ],
 "metadata": {
  "kernelspec": {
   "display_name": "H-hat",
   "language": "",
   "name": "hhat_jupyter_kernel"
  },
  "language_info": {
   "file_extension": ".hat",
   "mimetype": "text/hhat_lang",
   "name": "hhat_lang",
   "pygments_lexer": "python",
   "version": "0.0.0"
  }
 },
 "nbformat": 4,
 "nbformat_minor": 5
}
